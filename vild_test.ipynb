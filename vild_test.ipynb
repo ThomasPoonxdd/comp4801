{
 "cells": [
  {
   "cell_type": "code",
   "execution_count": 2,
   "metadata": {},
   "outputs": [
    {
     "name": "stderr",
     "output_type": "stream",
     "text": [
      "c:\\Users\\Ken\\anaconda3\\envs\\fyp\\lib\\site-packages\\tqdm\\auto.py:22: TqdmWarning: IProgress not found. Please update jupyter and ipywidgets. See https://ipywidgets.readthedocs.io/en/stable/user_install.html\n",
      "  from .autonotebook import tqdm as notebook_tqdm\n"
     ]
    }
   ],
   "source": [
    "import torch\n",
    "from torch import nn\n",
    "import torch.nn.functional as F\n",
    "import torchvision\n",
    "import numpy as np\n",
    "import pandas as pd\n",
    "from matplotlib import pyplot as plt"
   ]
  },
  {
   "cell_type": "code",
   "execution_count": 31,
   "metadata": {},
   "outputs": [],
   "source": [
    "import torch\n",
    "import torchvision\n",
    "from torch.utils.data import Dataset\n",
    "import numpy as np\n",
    "import pandas as pd\n",
    "import os\n",
    "import json\n",
    "from PIL import Image\n",
    "\n",
    "\n",
    "class LvisDataset(Dataset):\n",
    "    def __init__(self,json_path):\n",
    "        if json_path and os.path.exists(json_path):\n",
    "            with open(json_path) as user_file:\n",
    "                file_contents = user_file.read()\n",
    "            parsed_json = json.loads(file_contents)\n",
    "            \n",
    "            # print(parsed_json.keys())\n",
    "            # dict_keys(['info', 'categories', 'annotations', 'images', 'licenses'])\n",
    "            # separate them into three different list\n",
    "            images = parsed_json['images']\n",
    "            annotations = parsed_json['annotations']\n",
    "            categories = parsed_json['categories']\n",
    "            # print(len(images),len(annotations),len(categories))\n",
    "            # new_images = []\n",
    "            # new_annotations = []\n",
    "            # new_categories = []\n",
    "            images_d = {}\n",
    "            bbox_d = {}\n",
    "            \n",
    "        \n",
    "            # for i in range(len(images)):\n",
    "            #     if images[i]['id'] not in images_d.keys():\n",
    "            #         image_name = images[i]['coco_url'].split('/')[-1]\n",
    "            #         path_prefix =\"./train/\"\n",
    "            #         image_path = os.path.join(path_prefix, image_name)\n",
    "            #         image = Image.open(image_path)\n",
    "            #         to_tensor = torchvision.transforms.ToTensor()\n",
    "            #         image = to_tensor(image)\n",
    "            #         images_d[images[i]['id']] = [image]\n",
    "            #         break\n",
    "            #     else:\n",
    "            #         # images_dic[images[i]['id']].append(images[i])\n",
    "            #         print(\"Error: duplicate image id\")\n",
    "            \n",
    "            # for i in range(len(categories)):\n",
    "            #     if categories[i]['id'] not in categories_dic.keys():\n",
    "            #         categories_dic[categories[i]['id']] = [categories[i]]\n",
    "            #     else:\n",
    "            #         categories_dic[categories[i]['id']].append(categories[i])      \n",
    "            \n",
    "            for i in range(len(annotations)):\n",
    "                img_id = annotations[i]['image_id']\n",
    "                cat_id = annotations[i]['category_id']\n",
    "                one_hot = torch.zeros(len(categories))\n",
    "                one_hot[cat_id] = 1\n",
    "                box_N_label = torch.cat((torch.tensor(annotations[i]['bbox']), one_hot))\n",
    "                if img_id not in bbox_d.keys():\n",
    "                    bbox_d[img_id] = box_N_label\n",
    "                else:\n",
    "                    bbox_d[img_id] = torch.stack((bbox_d[img_id], box_N_label), dim = 0)\n",
    "                break\n",
    "                # new_images.append(annotations[i])\n",
    "                # new_annotations.append(images_dic[annotations[i]['image_id']][0])\n",
    "                # new_categories.append(categories_dic[annotations[i]['category_id']][0])\n",
    "            \n",
    "            self.images = images_d\n",
    "            self.bbox = bbox_d\n",
    "            # self.annotations = new_annotations\n",
    "            # self.categories =  new_categories\n",
    "            # self.n_samples = len(new_images)  \n",
    "            \n",
    "                \n",
    "\n",
    "    \n",
    "    def __getitem__(self, index):\n",
    "        return self.images[index] , self.bbox[index]\n",
    "\n",
    "    def __len__(self):\n",
    "        return len(self.images)\n",
    "    \n",
    "if __name__ == '__main__':\n",
    "    a = LvisDataset(json_path=\"lvis_v1_train.json\")\n",
    "    "
   ]
  },
  {
   "cell_type": "code",
   "execution_count": 10,
   "metadata": {},
   "outputs": [
    {
     "data": {
      "text/plain": [
       "torch.Size([3, 1203])"
      ]
     },
     "execution_count": 10,
     "metadata": {},
     "output_type": "execute_result"
    }
   ],
   "source": [
    "lin = nn.Linear(512, 1203, bias=False)\n",
    "clip = np.load(\"clip_synonym_prompt.npy\")\n",
    "lin_params = lin.state_dict()\n",
    "lin_params[\"weight\"] = torch.from_numpy(clip)\n",
    "lin(torch.randn((3,512))).shape\n",
    "# for k in lin_params:\n",
    "    # print(k)"
   ]
  },
  {
   "attachments": {},
   "cell_type": "markdown",
   "metadata": {},
   "source": [
    "# Items needed\n",
    "1.  A fking LVIS data loader\n",
    "2.  A video processing framework -> UI \n",
    "3.  matplotlib codesss\n",
    "4.  VILD inference stage "
   ]
  },
  {
   "cell_type": "code",
   "execution_count": null,
   "metadata": {},
   "outputs": [],
   "source": [
    "def try_gpu():\n",
    "    return \"cuda:0\" if torch.cuda.is_available() else \"cpu\"\n",
    "def train(model, lr, num_epochs, train_iter, test_iter, pretrain_path=None,):\n",
    "    device =try_gpu()\n",
    "    trainer=torch.optim.AdamW(params = model.parameters(), lr=lr)\n",
    "    model = model.to(device)\n",
    "    if pretrain_path is not None:\n",
    "        model.load_state_dict(torch.load(pretrain_path))\n",
    "    model.train()\n",
    "    min_loss = 999\n",
    "    # plt.figure(figsize=(10,10))\n",
    "    X_rec=[[],[]]\n",
    "    Y_rec=[[],[]]\n",
    "    for epoch in num_epochs:\n",
    "        proposal_losses, frcnn_losses, feat_distill_loss, model_loss, train_l = train_one_epoch(model, train_iter, trainer)\n",
    "        if (epoch + 1) % 5  or epoch == 0:\n",
    "            train_l = np.array(train_l).mean()\n",
    "            test_l = eval_acc(model, test_iter, device = device, batch_size = batch_size)\n",
    "            print(f\"Epoch {epoch+1} Train Loss : {train_l}, Test Loss : {test_l}\")\n",
    "            X_rec,Y_rec=add(fig,axe,epoch+1,[train_l,test_l],X_rec,Y_rec)\n",
    "            \n",
    "            # torch.save(net.state_dict(), f\"weight/resnet_{epoch+1}.pt\")\n",
    "        if(test_l<min_loss):\n",
    "            torch.save(net.state_dict(), \"weight/resnet_best.pt\")\n",
    "            test_l=min_loss\n",
    "    return 0\n",
    "def train_one_epoch(model, train_iter, trainer):\n",
    "    '''\n",
    "    loss function needed: rpn_score, rpn_box, frcnn_class, frcnn_box, feat_distill\n",
    "    rpn scr loss: rpn_scr (from proposal loss) -> \"loss_objectness\"\n",
    "    rpn box loss: rpn_box (from proposal loss) -> \"loss_rpn_box_reg\"\n",
    "    frcnn cls loss: cls_output (from frcnn loss) -> \"loss_classifier\"\n",
    "    frcnn box loss: box_outputs (from frcnn loss) -> \"loss_box_reg\"\n",
    "    feat distill loss: distill_feat, compute the roi and only use those with roi greater than 0, multiples 0.5(feat_distill_weight)\n",
    "        \n",
    "    '''\n",
    "    # load the visual features from data loader\n",
    "    # \n",
    "    train_l = []\n",
    "    for x,y in train_iter:\n",
    "        class_output, bbox_output, distill_feat, proposal_losses, frcnn_losses, feat_distill_loss, model_loss = model(x)\n",
    "        model_loss.backward()\n",
    "        trainer.step()\n",
    "        train_l.append(model_loss.item())\n",
    "    return proposal_losses, frcnn_losses, feat_distill_loss, model_loss, train_l"
   ]
  }
 ],
 "metadata": {
  "kernelspec": {
   "display_name": "fyp",
   "language": "python",
   "name": "python3"
  },
  "language_info": {
   "codemirror_mode": {
    "name": "ipython",
    "version": 3
   },
   "file_extension": ".py",
   "mimetype": "text/x-python",
   "name": "python",
   "nbconvert_exporter": "python",
   "pygments_lexer": "ipython3",
   "version": "3.8.13 (default, Mar 28 2022, 06:59:08) [MSC v.1916 64 bit (AMD64)]"
  },
  "orig_nbformat": 4,
  "vscode": {
   "interpreter": {
    "hash": "6df37f7eefd70c111a3ab674c48367e1dbb3353c370b3077e2dd29dc159cc18f"
   }
  }
 },
 "nbformat": 4,
 "nbformat_minor": 2
}
